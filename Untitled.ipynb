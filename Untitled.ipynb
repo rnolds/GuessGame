{
 "cells": [
  {
   "cell_type": "code",
   "execution_count": 1,
   "metadata": {},
   "outputs": [],
   "source": [
    "import os\n",
    "import cv2\n",
    "import matplotlib.pyplot as plt\n",
    "import random\n",
    "import sys"
   ]
  },
  {
   "cell_type": "code",
   "execution_count": 2,
   "metadata": {},
   "outputs": [
    {
     "name": "stdout",
     "output_type": "stream",
     "text": [
      "['Actors', 'Singers']\n",
      "select a directory or '.' for All\n",
      ".\n"
     ]
    }
   ],
   "source": [
    "path = './DataFiles'\n",
    "#path = './DataFiles/SoccorPlayers'\n",
    "myDict = {}\n",
    "\n",
    "myFolders = [d for d in os.listdir(path) if os.path.isdir(os.path.join(path, d))]\n",
    "print(myFolders)\n",
    "dirName = raw_input(\"select a directory or '.' for All\\n\")\n",
    "if(dirName!='.'):\n",
    "    path=path+'/'+dirName\n",
    "    #print(path)\n",
    "for root, dirs, files in os.walk(path):\n",
    "    for file in files:\n",
    "        if file.endswith(\".jpg\") or file.endswith(\".png\"):\n",
    "             myDict[os.path.splitext(os.path.basename(os.path.normpath(os.path.join(root, file))))[0]] = os.path.join(root, file)\n",
    "             #print(os.path.splitext(os.path.basename(os.path.normpath(os.path.join(root, file))))[0])\n",
    "             #print(os.path.join(root, file))"
   ]
  },
  {
   "cell_type": "code",
   "execution_count": 4,
   "metadata": {
    "scrolled": false
   },
   "outputs": [],
   "source": [
    "def Guess(url, name, count):\n",
    "    while(count<2):\n",
    "        guess = raw_input(\"Wrong Answer. Guess Again\\n-1 for Answer\\n\")\n",
    "        if(guess == '-1'):\n",
    "            print(name)\n",
    "            return\n",
    "        elif(guess.lower()==name.lower()):\n",
    "            return\n",
    "        elif count == 1:\n",
    "            print(\"Answer : \",name)\n",
    "            return\n",
    "        else:\n",
    "            count+=1\n",
    "\n",
    "ch = []\n",
    "\n",
    "while(len(myDict)!=len(ch)):\n",
    "    choice = random.randint(0,len(myDict)-1)\n",
    "    if(choice not in ch):\n",
    "        count = 0\n",
    "        ch.append(choice)\n",
    "        im = cv2.imread(list(myDict.values())[choice])\n",
    "        im_resized = cv2.resize(im, (224, 224), interpolation=cv2.INTER_LINEAR)\n",
    "        plt.imshow(cv2.cvtColor(im_resized, cv2.COLOR_BGR2RGB))\n",
    "        plt.show()\n",
    "        guess = raw_input(\"Guess? -1 for Answer and 0 for Exit\\n\")\n",
    "        if(guess == '-1'):\n",
    "            print(list(myDict.keys())[choice])\n",
    "        elif(guess == '0'):\n",
    "            break\n",
    "        elif(guess.lower()==list(myDict.keys())[choice].lower()):\n",
    "            continue\n",
    "        else:\n",
    "            Guess(list(myDict.values())[choice], list(myDict.keys())[choice], count)"
   ]
  },
  {
   "cell_type": "code",
   "execution_count": null,
   "metadata": {
    "collapsed": true
   },
   "outputs": [],
   "source": []
  }
 ],
 "metadata": {
  "kernelspec": {
   "display_name": "Python 2",
   "language": "python",
   "name": "python2"
  },
  "language_info": {
   "codemirror_mode": {
    "name": "ipython",
    "version": 2
   },
   "file_extension": ".py",
   "mimetype": "text/x-python",
   "name": "python",
   "nbconvert_exporter": "python",
   "pygments_lexer": "ipython2",
   "version": "2.7.15"
  }
 },
 "nbformat": 4,
 "nbformat_minor": 2
}
